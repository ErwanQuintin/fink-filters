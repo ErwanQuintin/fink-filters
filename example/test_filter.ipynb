{
 "cells": [
  {
   "cell_type": "markdown",
   "id": "29b15993",
   "metadata": {},
   "source": [
    "# Testing Fink filters\n",
    "\n",
    "First download some ZTF data using the Fink Data Transfer service (https://fink-portal.org/download). Then load the data using Spark:"
   ]
  },
  {
   "cell_type": "code",
   "execution_count": 1,
   "id": "ebb169aa",
   "metadata": {},
   "outputs": [
    {
     "name": "stderr",
     "output_type": "stream",
     "text": [
      "\r",
      "[Stage 0:======================================>                 (81 + 9) / 117]\r",
      "\r",
      "                                                                                \r"
     ]
    }
   ],
   "source": [
    "df = spark.read.format('parquet').load('ftransfer_ztf_2023-03-21_623768')"
   ]
  },
  {
   "cell_type": "markdown",
   "id": "8600088b",
   "metadata": {},
   "source": [
    "For example, downloading data from 2023/03/17, I obtain nearly 200,000 alerts:"
   ]
  },
  {
   "cell_type": "code",
   "execution_count": 2,
   "id": "47d3dc1b",
   "metadata": {},
   "outputs": [
    {
     "name": "stderr",
     "output_type": "stream",
     "text": [
      "                                                                                \r"
     ]
    },
    {
     "data": {
      "text/plain": [
       "190920"
      ]
     },
     "execution_count": 2,
     "metadata": {},
     "output_type": "execute_result"
    }
   ],
   "source": [
    "df.count()"
   ]
  },
  {
   "cell_type": "markdown",
   "id": "4b55d632",
   "metadata": {},
   "source": [
    "## Import and apply the filter"
   ]
  },
  {
   "cell_type": "code",
   "execution_count": 5,
   "id": "b379c01d",
   "metadata": {},
   "outputs": [],
   "source": [
    "import pyspark.sql.functions as F\n",
    "from myfilter import example_filter"
   ]
  },
  {
   "cell_type": "code",
   "execution_count": 6,
   "id": "f9493991",
   "metadata": {},
   "outputs": [
    {
     "name": "stderr",
     "output_type": "stream",
     "text": [
      "                                                                                \r"
     ]
    },
    {
     "data": {
      "text/plain": [
       "5062"
      ]
     },
     "execution_count": 6,
     "metadata": {},
     "output_type": "execute_result"
    }
   ],
   "source": [
    "df_filtered = df.withColumn('flag', example_filter('cdsxmatch', 'magpsf')).filter(F.col('flag'))\n",
    "df_filtered.count()"
   ]
  },
  {
   "cell_type": "markdown",
   "id": "c58837f5",
   "metadata": {},
   "source": [
    "Great our filter keeps 5000 objects out of 200,000! you can then inspect them easily using Spark or even Pandas:"
   ]
  },
  {
   "cell_type": "code",
   "execution_count": 7,
   "id": "d1cfd3c2",
   "metadata": {},
   "outputs": [
    {
     "name": "stderr",
     "output_type": "stream",
     "text": [
      "23/03/20 18:59:50 WARN package: Truncated the string representation of a plan since it was too large. This behavior can be adjusted by setting 'spark.sql.debug.maxToStringFields'.\n",
      "                                                                                \r"
     ]
    }
   ],
   "source": [
    "pdf = df_filtered.toPandas()"
   ]
  },
  {
   "cell_type": "code",
   "execution_count": 8,
   "id": "9afe1a12",
   "metadata": {},
   "outputs": [
    {
     "data": {
      "text/plain": [
       "finkclass\n",
       "QSO                  3879\n",
       "Seyfert_1             271\n",
       "RRLyr                 190\n",
       "V*                    140\n",
       "Blue                  102\n",
       "Star                   84\n",
       "EB*_Candidate          70\n",
       "EB*                    62\n",
       "Radio                  37\n",
       "AGN                    36\n",
       "BLLac                  27\n",
       "SN                     12\n",
       "X                      12\n",
       "BClG                   12\n",
       "CataclyV*              11\n",
       "YSO_Candidate          11\n",
       "LPV*                   10\n",
       "Blazar                  9\n",
       "Em*                     9\n",
       "YSO                     6\n",
       "Seyfert_2               6\n",
       "QSO_Candidate           6\n",
       "TTau*                   5\n",
       "WD*                     5\n",
       "UV                      5\n",
       "GinCl                   5\n",
       "AGB*                    3\n",
       "NIR                     3\n",
       "LINER                   2\n",
       "PulsV*                  2\n",
       "EmG                     2\n",
       "C*                      2\n",
       "AGN_Candidate           2\n",
       "Symbiotic*              1\n",
       "Unknown_Candidate       1\n",
       "Radio(cm)               1\n",
       "Seyfert                 1\n",
       "gammaDor                1\n",
       "RadioG                  1\n",
       "**                      1\n",
       "RRLyr_Candidate         1\n",
       "IR                      1\n",
       "Blazar_Candidate        1\n",
       "BlueStraggler           1\n",
       "CV*_Candidate           1\n",
       "ClG                     1\n",
       "HB*                     1\n",
       "HII_G                   1\n",
       "LP*_Candidate           1\n",
       "RGB*                    1\n",
       "LSB_G                   1\n",
       "MIR                     1\n",
       "Mira                    1\n",
       "Orion_V*                1\n",
       "PulsV*delSct            1\n",
       "Pulsar                  1\n",
       "low-mass*               1\n",
       "Name: objectId, dtype: int64"
      ]
     },
     "execution_count": 8,
     "metadata": {},
     "output_type": "execute_result"
    }
   ],
   "source": [
    "pdf.groupby('finkclass').count().sort_values('objectId', ascending=False)['objectId']"
   ]
  },
  {
   "cell_type": "markdown",
   "id": "965965da",
   "metadata": {},
   "source": [
    "OK our filter is mostly targeting QSO (faint objects in SIMBAD)"
   ]
  },
  {
   "cell_type": "code",
   "execution_count": null,
   "id": "3460d92c",
   "metadata": {},
   "outputs": [],
   "source": []
  }
 ],
 "metadata": {
  "kernelspec": {
   "display_name": "Python 3 (ipykernel)",
   "language": "python",
   "name": "python3"
  },
  "language_info": {
   "codemirror_mode": {
    "name": "ipython",
    "version": 3
   },
   "file_extension": ".py",
   "mimetype": "text/x-python",
   "name": "python",
   "nbconvert_exporter": "python",
   "pygments_lexer": "ipython3",
   "version": "3.9.12"
  }
 },
 "nbformat": 4,
 "nbformat_minor": 5
}
